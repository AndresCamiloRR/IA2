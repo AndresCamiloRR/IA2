version https://git-lfs.github.com/spec/v1
oid sha256:5bbaf2ebc84ff27a79e972d43a2092f97ecb696e4fa2e9deb4e2eeee8e990edf
size 608970
