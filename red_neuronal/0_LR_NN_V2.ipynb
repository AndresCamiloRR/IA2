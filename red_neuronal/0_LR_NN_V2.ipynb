version https://git-lfs.github.com/spec/v1
oid sha256:a0399abd7c3f9560f11dc7f71dae71f3e705f613510e85f01e7ac290a264ceea
size 1205197
