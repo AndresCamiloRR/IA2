version https://git-lfs.github.com/spec/v1
oid sha256:011700ccbe831e98509681b7aab1a056d36686b71cf72f31a3418a785b5556be
size 272398
