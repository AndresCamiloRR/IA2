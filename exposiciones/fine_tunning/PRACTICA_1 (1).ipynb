version https://git-lfs.github.com/spec/v1
oid sha256:f05d52b6b3193d1c9a599c1edac492147df2610935900288490af9c4abe5cfe5
size 271462
