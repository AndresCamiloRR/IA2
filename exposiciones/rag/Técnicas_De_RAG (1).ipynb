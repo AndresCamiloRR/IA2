version https://git-lfs.github.com/spec/v1
oid sha256:f1a48678849f3c1960b901681769d4f0ec383458448313e7b891b4ef4d5b3b0f
size 109288
