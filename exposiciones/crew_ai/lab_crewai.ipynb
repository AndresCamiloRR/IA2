version https://git-lfs.github.com/spec/v1
oid sha256:95d922adb3b8b63f36abc58b9934fb9e940cb0df52caf4c33b5de60f90250a52
size 427624
