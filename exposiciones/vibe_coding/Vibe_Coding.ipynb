version https://git-lfs.github.com/spec/v1
oid sha256:7e5f6cdaf0b347208fc9f9d4986100f999ba1c35b1c4b0845b71d9aa6eaed202
size 20337
